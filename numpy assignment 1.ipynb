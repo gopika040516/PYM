{
 "cells": [
  {
   "cell_type": "code",
   "execution_count": 6,
   "id": "de35446c",
   "metadata": {},
   "outputs": [
    {
     "name": "stdout",
     "output_type": "stream",
     "text": [
      "Original Array: [ 1  2  3  4  5  6  7  8  9 10]\n",
      "Datatype: int32\n",
      "Shape: (10,)\n",
      "Size: 10\n",
      "Reversed Array: [10  9  8  7  6  5  4  3  2  1]\n",
      "Sliced Array: [4 5 6 7 8 9]\n"
     ]
    }
   ],
   "source": [
    "import numpy as np\n",
    "arr = np.arange(1, 11)\n",
    "# Determine datatype, shape, and size\n",
    "datatype = arr.dtype\n",
    "shape = arr.shape\n",
    "size = arr.size\n",
    "# Reverse the array\n",
    "reversed_arr = arr[::-1]\n",
    "# Slice the array (e.g., take elements from index 2 to 6)\n",
    "sliced_arr = arr[3:9]  \n",
    "print(\"Original Array:\", arr)\n",
    "print(\"Datatype:\", datatype)\n",
    "print(\"Shape:\", shape)\n",
    "print(\"Size:\", size)\n",
    "print(\"Reversed Array:\", reversed_arr)\n",
    "print(\"Sliced Array:\", sliced_arr)"
   ]
  },
  {
   "cell_type": "code",
   "execution_count": null,
   "id": "b55d297a",
   "metadata": {},
   "outputs": [],
   "source": []
  }
 ],
 "metadata": {
  "kernelspec": {
   "display_name": "Python 3 (ipykernel)",
   "language": "python",
   "name": "python3"
  },
  "language_info": {
   "codemirror_mode": {
    "name": "ipython",
    "version": 3
   },
   "file_extension": ".py",
   "mimetype": "text/x-python",
   "name": "python",
   "nbconvert_exporter": "python",
   "pygments_lexer": "ipython3",
   "version": "3.10.9"
  }
 },
 "nbformat": 4,
 "nbformat_minor": 5
}
