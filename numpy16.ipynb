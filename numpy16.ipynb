{
 "cells": [
  {
   "cell_type": "code",
   "execution_count": 2,
   "id": "eef75d49",
   "metadata": {
    "scrolled": true
   },
   "outputs": [
    {
     "name": "stdout",
     "output_type": "stream",
     "text": [
      "One dimensional array: [10 20 30 40 50]\n"
     ]
    }
   ],
   "source": [
    "import numpy as np\n",
    "a=np.array([10,20,30,40,50])\n",
    "print(\"One dimensional array:\",a)"
   ]
  },
  {
   "cell_type": "code",
   "execution_count": 4,
   "id": "802011a7",
   "metadata": {},
   "outputs": [
    {
     "name": "stdout",
     "output_type": "stream",
     "text": [
      "Two dimensional array: [[ 10  20  30  40  50]\n",
      " [ 60  70  80  90 100]]\n"
     ]
    }
   ],
   "source": [
    "import numpy as np\n",
    "b=np.array([[10,20,30,40,50],[60,70,80,90,100]])\n",
    "print(\"Two dimensional array:\",b)"
   ]
  },
  {
   "cell_type": "code",
   "execution_count": 5,
   "id": "71ab90aa",
   "metadata": {},
   "outputs": [
    {
     "name": "stdout",
     "output_type": "stream",
     "text": [
      "\n",
      " Array with all zeros:\n",
      " [[0. 0. 0. 0. 0.]\n",
      " [0. 0. 0. 0. 0.]\n",
      " [0. 0. 0. 0. 0.]]\n"
     ]
    }
   ],
   "source": [
    "import numpy as np\n",
    "c=np.zeros((3,5))\n",
    "print(\"\\n Array with all zeros:\\n\",c)"
   ]
  },
  {
   "cell_type": "code",
   "execution_count": 6,
   "id": "1fae71c8",
   "metadata": {},
   "outputs": [
    {
     "name": "stdout",
     "output_type": "stream",
     "text": [
      "\n",
      " Random value:\n",
      " [[0.35507195 0.81209456 0.8294121 ]\n",
      " [0.77540669 0.63444027 0.34330152]\n",
      " [0.32895178 0.86875831 0.01788786]]\n"
     ]
    }
   ],
   "source": [
    "import numpy as np\n",
    "d=np.random.random((3,3))\n",
    "print(\"\\n Random value:\\n\",d)"
   ]
  },
  {
   "cell_type": "code",
   "execution_count": 8,
   "id": "ad5c4df2",
   "metadata": {},
   "outputs": [
    {
     "name": "stdout",
     "output_type": "stream",
     "text": [
      "\n",
      " Range value:\n",
      " [ 0  5 10 15 20 25 30 35 40 45 50 55 60 65 70 75 80 85 90 95]\n"
     ]
    }
   ],
   "source": [
    "import numpy  as np\n",
    "e=np.arange(0,100,5)\n",
    "print(\"\\n Range value:\\n\",e)"
   ]
  },
  {
   "cell_type": "code",
   "execution_count": 9,
   "id": "c2f0f52e",
   "metadata": {},
   "outputs": [
    {
     "name": "stdout",
     "output_type": "stream",
     "text": [
      "\n",
      " Original array:\n",
      " [[ 1  2  3  4]\n",
      " [ 5  6  7  8]\n",
      " [ 9 10 11 12]]\n",
      "\n",
      " Reshaped array [4,3]:\n",
      " [[ 1  2  3]\n",
      " [ 4  5  6]\n",
      " [ 7  8  9]\n",
      " [10 11 12]]\n"
     ]
    }
   ],
   "source": [
    "arr=np.array([[1,2,3,4],[5,6,7,8],[9,10,11,12]])\n",
    "newarr=arr.reshape((4,3))\n",
    "print(\"\\n Original array:\\n\",arr)\n",
    "print(\"\\n Reshaped array [4,3]:\\n\", newarr)"
   ]
  },
  {
   "cell_type": "code",
   "execution_count": 13,
   "id": "4287ab40",
   "metadata": {},
   "outputs": [
    {
     "name": "stdout",
     "output_type": "stream",
     "text": [
      "\n",
      " convert array element:\n",
      " [[ 1.  2.  3.]\n",
      " [ 4.  5.  6.]\n",
      " [ 7.  8.  9.]\n",
      " [10. 11. 12.]\n",
      " [13. 14. 15.]]\n",
      "datatype of converted array:\n",
      " float32\n",
      "\n",
      " Array with all zeros:\n",
      " [[0. 0. 0.]\n",
      " [0. 0. 0.]\n",
      " [0. 0. 0.]\n",
      " [0. 0. 0.]\n",
      " [0. 0. 0.]]\n",
      "\n",
      " Array with random values:\n",
      " [[0.88863835 0.69415406 0.77149348]\n",
      " [0.90553549 0.13027248 0.50811414]\n",
      " [0.49558698 0.53958214 0.66094924]\n",
      " [0.40156105 0.57522543 0.98563641]\n",
      " [0.86455068 0.2564437  0.67744573]]\n",
      "\n",
      " Range value:\n",
      " [0 3]\n",
      "\n",
      " orginal array:\n",
      " [[ 1  2  3]\n",
      " [ 4  5  6]\n",
      " [ 7  8  9]\n",
      " [10 11 12]\n",
      " [13 14 15]]\n",
      "\n",
      " Reshaped array [5,3]:\n",
      " [[ 1  2  3  4  5]\n",
      " [ 6  7  8  9 10]\n",
      " [11 12 13 14 15]]\n",
      "Flattened array:\n",
      " [ 1  2  3  4  5  6  7  8  9 10 11 12 13 14 15]\n"
     ]
    }
   ],
   "source": [
    "import numpy as np\n",
    "a=np.zeros((5,3))\n",
    "b=np.random.random((5,3))\n",
    "c=np.arange(0,5,3)\n",
    "d=np.array([[1,2,3],[4,5,6],[7,8,9],[10,11,12],[13,14,15]])\n",
    "flat=d.flatten()\n",
    "e=d.reshape((3,5))\n",
    "newtype=d.astype('f')\n",
    "print(\"\\n convert array element:\\n\",newtype)\n",
    "print(\"datatype of converted array:\\n\",newtype.dtype)\n",
    "print(\"\\n Array with all zeros:\\n\",a)\n",
    "print(\"\\n Array with random values:\\n\",b)\n",
    "print(\"\\n Range value:\\n\",c)\n",
    "print(\"\\n orginal array:\\n\",d)\n",
    "print(\"\\n Reshaped array [5,3]:\\n\",e)\n",
    "print(\"Flattened array:\\n\",flat)"
   ]
  },
  {
   "cell_type": "code",
   "execution_count": 25,
   "id": "d06f88f6-0496-4d2d-874c-e1e835ebad90",
   "metadata": {},
   "outputs": [
    {
     "name": "stdout",
     "output_type": "stream",
     "text": [
      "flattened array:\n",
      " [ 1  2  3  4  5  6  7  8  9 10 11 12 13 14 15]\n"
     ]
    }
   ],
   "source": [
    "import numpy as np\n",
    "flat=d.flatten()\n",
    "print(\"flattened array:\\n\",flat)"
   ]
  },
  {
   "cell_type": "code",
   "execution_count": 27,
   "id": "f7a4892f-d75e-4389-999e-007d1e719ee0",
   "metadata": {},
   "outputs": [
    {
     "name": "stdout",
     "output_type": "stream",
     "text": [
      "no of dimensional array: 2\n"
     ]
    }
   ],
   "source": [
    "import numpy as np\n",
    "b=np.array([[10,20,30,40,50],[60,70,80,90,100]])\n",
    "print(\"no of dimensional array:\",b.ndim)"
   ]
  },
  {
   "cell_type": "code",
   "execution_count": 31,
   "id": "fbd24fd4-3226-4e28-818e-2b9862d9bf8d",
   "metadata": {},
   "outputs": [
    {
     "name": "stdout",
     "output_type": "stream",
     "text": [
      "\n",
      " shape of the array: (5, 3)\n"
     ]
    }
   ],
   "source": [
    "import numpy as np\n",
    "arr=np.array([[1,2,3],[4,5,6],[7,8,9],[10,11,12],[13,14,15]])\n",
    "print(\"\\n shape of the array:\",arr.shape)"
   ]
  },
  {
   "cell_type": "code",
   "execution_count": 6,
   "id": "536e2b94-e854-4f64-ba8a-6e79b1a74348",
   "metadata": {},
   "outputs": [
    {
     "ename": "NameError",
     "evalue": "name 'arr' is not defined",
     "output_type": "error",
     "traceback": [
      "\u001b[1;31m---------------------------------------------------------------------------\u001b[0m",
      "\u001b[1;31mNameError\u001b[0m                                 Traceback (most recent call last)",
      "Cell \u001b[1;32mIn[6], line 1\u001b[0m\n\u001b[1;32m----> 1\u001b[0m \u001b[38;5;28mprint\u001b[39m(\u001b[38;5;124m\"\u001b[39m\u001b[38;5;130;01m\\n\u001b[39;00m\u001b[38;5;124m Array element type:\u001b[39m\u001b[38;5;124m\"\u001b[39m,arr\u001b[38;5;241m.\u001b[39mdtype)\n",
      "\u001b[1;31mNameError\u001b[0m: name 'arr' is not defined"
     ]
    }
   ],
   "source": [
    "print(\"\\n Array element type:\",arr.dtype)"
   ]
  },
  {
   "cell_type": "code",
   "execution_count": 16,
   "id": "6a0ad735",
   "metadata": {},
   "outputs": [
    {
     "name": "stdout",
     "output_type": "stream",
     "text": [
      "\n",
      " convert array element:\n",
      " [[ 1.  2.  3.]\n",
      " [ 4.  5.  6.]\n",
      " [ 7.  8.  9.]\n",
      " [10. 11. 12.]\n",
      " [13. 14. 15.]]\n",
      "\n",
      "datatype of converted array: float32\n"
     ]
    }
   ],
   "source": [
    "import numpy as np\n",
    "d=np.array([[1,2,3],[4,5,6],[7,8,9],[10,11,12],[13,14,15]])\n",
    "newtype=d.astype('f')\n",
    "print(\"\\n convert array element:\\n\",newtype)\n",
    "print(\"\\ndatatype of converted array:\",newtype.dtype)"
   ]
  },
  {
   "cell_type": "code",
   "execution_count": 14,
   "id": "4f9a7baa",
   "metadata": {},
   "outputs": [
    {
     "name": "stdout",
     "output_type": "stream",
     "text": [
      "\n",
      " size of array:\n",
      " 15\n"
     ]
    }
   ],
   "source": [
    "import numpy as np\n",
    "d=np.array([[1,2,3],[4,5,6],[7,8,9],[10,11,12],[13,14,15]])\n",
    "size=len(d)\n",
    "print(\"\\n size of array:\\n\",d.size)"
   ]
  },
  {
   "cell_type": "code",
   "execution_count": null,
   "id": "d2037d0d",
   "metadata": {},
   "outputs": [],
   "source": []
  }
 ],
 "metadata": {
  "kernelspec": {
   "display_name": "Python 3 (ipykernel)",
   "language": "python",
   "name": "python3"
  },
  "language_info": {
   "codemirror_mode": {
    "name": "ipython",
    "version": 3
   },
   "file_extension": ".py",
   "mimetype": "text/x-python",
   "name": "python",
   "nbconvert_exporter": "python",
   "pygments_lexer": "ipython3",
   "version": "3.11.3"
  }
 },
 "nbformat": 4,
 "nbformat_minor": 5
}
