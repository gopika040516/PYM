{
 "cells": [
  {
   "cell_type": "code",
   "execution_count": 4,
   "id": "ee693a43-210a-4db1-9f01-9c168e079951",
   "metadata": {},
   "outputs": [
    {
     "name": "stdout",
     "output_type": "stream",
     "text": [
      "DataFrame.apply Function:\n",
      "\n",
      "\n",
      "Orignal DataFrame:\n",
      "    S  R\n",
      "0  3  9\n",
      "1  3  9\n",
      "2  3  9\n",
      "3  3  9\n",
      "\n",
      "Squre root of DataFrame:\n",
      "           S    R\n",
      "0  1.732051  3.0\n",
      "1  1.732051  3.0\n",
      "2  1.732051  3.0\n",
      "3  1.732051  3.0\n",
      "\n",
      " sum of each Column:\n",
      " S    12\n",
      "R    36\n",
      "dtype: int64\n",
      "\n",
      " sum of each row:\n",
      " 0    12\n",
      "1    12\n",
      "2    12\n",
      "3    12\n",
      "dtype: int64\n"
     ]
    }
   ],
   "source": [
    "import pandas as pd\n",
    "import numpy as np\n",
    "print(\"DataFrame.apply Function:\\n\")\n",
    "info=pd.DataFrame([[3,9]]*4,columns=['S','R'])\n",
    "print(\"\\nOrignal DataFrame:\\n\",info)\n",
    "print(\"\\nSqure root of DataFrame:\\n\",info.apply(np.sqrt))\n",
    "print(\"\\n sum of each Column:\\n\",info.apply(np.sum,axis=0))\n",
    "print(\"\\n sum of each row:\\n\", info.apply(np.sum,axis=1))\n"
   ]
  },
  {
   "cell_type": "code",
   "execution_count": 8,
   "id": "59986fca-01ae-4e6b-bdd3-de83b4bc48bb",
   "metadata": {},
   "outputs": [
    {
     "name": "stdout",
     "output_type": "stream",
     "text": [
      "Original DataFrame:\n",
      "    0  1  2\n",
      "0  2  4  6\n",
      "1  1  3  5\n",
      "2  5  8  7\n",
      "\n",
      "Minimum & Maximum of each column:\n",
      "\n",
      "     0  1  2\n",
      "min  1  3  5\n",
      "max  5  8  7\n"
     ]
    }
   ],
   "source": [
    "import pandas as pd\n",
    "import numpy as np\n",
    "info=pd.DataFrame([[2,4,6],[1,3,5],[5,8,7]])\n",
    "col=['X','Y','Z']\n",
    "print(\"Original DataFrame:\\n\",info)\n",
    "print(\"\\nMinimum & Maximum of each column:\\n\")\n",
    "print(info.agg(['min','max']))\n"
   ]
  },
  {
   "cell_type": "code",
   "execution_count": 22,
   "id": "5ff694e9-3d4d-4f53-926f-457b22e4f1be",
   "metadata": {},
   "outputs": [
    {
     "name": "stdout",
     "output_type": "stream",
     "text": [
      "     0   1\n",
      "0  Sai  88\n",
      "1  Poo  70\n",
      "     0   1   sex\n",
      "0  Sai  88  Male\n",
      "1  Poo  70  Male\n"
     ]
    }
   ],
   "source": [
    "d2=pd.DataFrame([['Sai',88],['Poo',70]])\n",
    "column=['EMP','ID']\n",
    "print(d2)\n",
    "d=d2.assign(sex=['Male','Male'])\n",
    "print (d)"
   ]
  },
  {
   "cell_type": "code",
   "execution_count": 12,
   "id": "4fe66f90-79cc-41b9-9de9-41b76c7aeee8",
   "metadata": {},
   "outputs": [
    {
     "name": "stdout",
     "output_type": "stream",
     "text": [
      "     0   1  age\n",
      "0  Sai  88   20\n",
      "1  Poo  70   18\n"
     ]
    }
   ],
   "source": [
    "d2['age']=[20,18]\n",
    "print(d2)\n"
   ]
  },
  {
   "cell_type": "code",
   "execution_count": 24,
   "id": "94da512f-7b4c-4383-bb82-06d7a9f13391",
   "metadata": {},
   "outputs": [
    {
     "name": "stdout",
     "output_type": "stream",
     "text": [
      "     0   1     sex\n",
      "0  Sai  88    Male\n",
      "1  Poo  70  Female\n"
     ]
    }
   ],
   "source": [
    "d=d2.assign(sex=['Male','Female'])\n",
    "print (d)"
   ]
  },
  {
   "cell_type": "code",
   "execution_count": 34,
   "id": "9985b10a-ae6d-42b8-96e9-82734ba620ae",
   "metadata": {},
   "outputs": [
    {
     "name": "stdout",
     "output_type": "stream",
     "text": [
      "       col3      col4\n",
      "3  0.016200  1.090595\n",
      "2  0.231801 -0.544615\n",
      "0 -0.906526 -0.212805\n",
      "4  0.125348  0.486048\n",
      "1  0.024535 -0.912368\n"
     ]
    }
   ],
   "source": [
    "info=pd.DataFrame(np.random.randn(5,2),index=[3,2,0,4,1],columns=['col3','col4'])\n",
    "print(info)\n",
    "#info2=info.sort_index()\n",
    "#info3=info.sort_values(by=0|3)\n",
    "#print(info3)\n"
   ]
  },
  {
   "cell_type": "code",
   "execution_count": 44,
   "id": "11524070-0915-4c16-b2f1-003d0d938e35",
   "metadata": {
    "scrolled": true
   },
   "outputs": [
    {
     "name": "stdout",
     "output_type": "stream",
     "text": [
      "       col3      col4\n",
      "0 -0.906526 -0.212805\n",
      "3  0.016200  1.090595\n",
      "1  0.024535 -0.912368\n",
      "4  0.125348  0.486048\n",
      "2  0.231801 -0.544615\n"
     ]
    }
   ],
   "source": [
    "info2=info.sort_index()\n",
    "info3=info.sort_values(by='col3')\n",
    "print(info3)"
   ]
  },
  {
   "cell_type": "code",
   "execution_count": 50,
   "id": "19799f09-38a0-48f8-b3ad-244b8c7e85dd",
   "metadata": {},
   "outputs": [
    {
     "name": "stdout",
     "output_type": "stream",
     "text": [
      "   id  Name   sub\n",
      "0   1   sai  sub1\n",
      "1   2  bala  sub2\n",
      "2   3   kar  sub3\n"
     ]
    }
   ],
   "source": [
    "left=pd.DataFrame({'id':[1,2,3],'Name':['sai','bala','kar'],'sub':['sub1','sub2','sub3']})\n",
    "print(left)"
   ]
  },
  {
   "cell_type": "code",
   "execution_count": 54,
   "id": "1b286544-2526-4048-b992-175de25b35e5",
   "metadata": {},
   "outputs": [
    {
     "name": "stdout",
     "output_type": "stream",
     "text": [
      "   id Name_x sub_x Name_y sub_y\n",
      "0   1    sai  sub1    iot  sub1\n",
      "1   2   bala  sub2   pain  sub2\n",
      "2   3    kar  sub3   vein  sub3\n"
     ]
    }
   ],
   "source": [
    "right=pd.DataFrame({'id':[1,2,3],'Name':['iot','pain','vein'],'sub':['sub1','sub2','sub3']})\n",
    "print(pd.merge(left,right,on=\"id\"))"
   ]
  },
  {
   "cell_type": "code",
   "execution_count": null,
   "id": "d799d5bc-70b4-4650-85e1-51a89af5779a",
   "metadata": {},
   "outputs": [],
   "source": []
  }
 ],
 "metadata": {
  "kernelspec": {
   "display_name": "Python 3 (ipykernel)",
   "language": "python",
   "name": "python3"
  },
  "language_info": {
   "codemirror_mode": {
    "name": "ipython",
    "version": 3
   },
   "file_extension": ".py",
   "mimetype": "text/x-python",
   "name": "python",
   "nbconvert_exporter": "python",
   "pygments_lexer": "ipython3",
   "version": "3.12.7"
  }
 },
 "nbformat": 4,
 "nbformat_minor": 5
}
