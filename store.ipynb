{
 "cells": [
  {
   "cell_type": "code",
   "execution_count": 3,
   "id": "dc9e2324",
   "metadata": {
    "scrolled": true
   },
   "outputs": [
    {
     "name": "stdout",
     "output_type": "stream",
     "text": [
      "       a  b  c\n",
      "one    1  2  3\n",
      "two    4  5  6\n",
      "three  7  8  9\n"
     ]
    }
   ],
   "source": [
    "import pandas as pd\n",
    "df=pd.DataFrame(([1,2,3],[4,5,6],[7,8,9]),index=['one','two','three'],columns=['a','b','c'])\n",
    "print(df)"
   ]
  },
  {
   "cell_type": "code",
   "execution_count": 11,
   "id": "3a868871",
   "metadata": {},
   "outputs": [],
   "source": [
    "df.to_excel(\"D:\\\\gopika.xlsx\")\n",
    "df.to_excel(\"D:\\\\sudhan.xlsx\")"
   ]
  },
  {
   "cell_type": "code",
   "execution_count": 16,
   "id": "90b8ad65",
   "metadata": {},
   "outputs": [],
   "source": [
    "df=pd.DataFrame(([10,20,30],[40,50,60],[70,80,90]),index=['four','five','six'],columns=['x','y','z'])\n",
    "df.to_excel(\"D:\\\\gopika.xlsx\",sheet_name='Marks')"
   ]
  },
  {
   "cell_type": "code",
   "execution_count": 20,
   "id": "6bc56056",
   "metadata": {},
   "outputs": [],
   "source": [
    "x=pd.read_excel(\"D:\\\\gopika.xlsx\")\n",
    "y=pd.read_excel(\"D:\\\\sudhan.xlsx\")\n",
    "z=pd.concat([x,y])\n",
    "z.to_excel(\"D:\\\\nithya.xlsx\")"
   ]
  },
  {
   "cell_type": "code",
   "execution_count": null,
   "id": "03741159",
   "metadata": {},
   "outputs": [],
   "source": []
  }
 ],
 "metadata": {
  "kernelspec": {
   "display_name": "Python 3 (ipykernel)",
   "language": "python",
   "name": "python3"
  },
  "language_info": {
   "codemirror_mode": {
    "name": "ipython",
    "version": 3
   },
   "file_extension": ".py",
   "mimetype": "text/x-python",
   "name": "python",
   "nbconvert_exporter": "python",
   "pygments_lexer": "ipython3",
   "version": "3.11.3"
  }
 },
 "nbformat": 4,
 "nbformat_minor": 5
}
