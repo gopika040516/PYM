{
 "cells": [
  {
   "cell_type": "code",
   "execution_count": 9,
   "id": "2182cca9",
   "metadata": {},
   "outputs": [
    {
     "name": "stdout",
     "output_type": "stream",
     "text": [
      "  name  age\n",
      "0  sai   20\n",
      "1  sub   21\n",
      "2  poo   22\n"
     ]
    }
   ],
   "source": [
    "import pandas as pd\n",
    "d1={\"name\":[\"sai\",\"sub\",\"poo\"],\"age\":[20,21,22]}\n",
    "d2={\"qualified\":[True,True,False]}\n",
    "df1=pd.DataFrame(d1)\n",
    "print(df1)\n"
   ]
  },
  {
   "cell_type": "code",
   "execution_count": 10,
   "id": "276607af",
   "metadata": {},
   "outputs": [
    {
     "name": "stdout",
     "output_type": "stream",
     "text": [
      "   qualified\n",
      "0       True\n",
      "1       True\n",
      "2      False\n",
      "  name  age  qualified\n",
      "0  sai   20       True\n",
      "1  sub   21       True\n",
      "2  poo   22      False\n"
     ]
    }
   ],
   "source": [
    "df2=pd.DataFrame(d2)\n",
    "print(df2)\n",
    "new=df1.join(df2)\n",
    "print(new)\n"
   ]
  },
  {
   "cell_type": "code",
   "execution_count": 13,
   "id": "4f4c57b4",
   "metadata": {},
   "outputs": [
    {
     "name": "stdout",
     "output_type": "stream",
     "text": [
      "  name  age\n",
      "0  aaa   20\n",
      "1  bbb   25\n",
      "2  ccc   22\n",
      "  name  age\n",
      "0  ddd   22\n",
      "1  eee   24\n",
      "2  fff   25\n"
     ]
    }
   ],
   "source": [
    "f1={\"name\":[\"aaa\",\"bbb\",\"ccc\"],\"age\":[20,25,22]}\n",
    "f2={\"name\":[\"ddd\",\"eee\",\"fff\"],\"age\":[22,24,25]}\n",
    "df1=pd.DataFrame(f1)\n",
    "print(df1)\n",
    "df2=pd.DataFrame(f2)\n",
    "print(df2)\n"
   ]
  },
  {
   "cell_type": "code",
   "execution_count": 14,
   "id": "8c714942",
   "metadata": {},
   "outputs": [
    {
     "name": "stdout",
     "output_type": "stream",
     "text": [
      "  name_x  age name_y\n",
      "0    ddd   22    ccc\n",
      "1    fff   25    bbb\n"
     ]
    }
   ],
   "source": [
    "new1=df2.merge(df1,on=\"age\")\n",
    "print(new1)"
   ]
  },
  {
   "cell_type": "code",
   "execution_count": 18,
   "id": "b8a47dcf",
   "metadata": {},
   "outputs": [
    {
     "name": "stdout",
     "output_type": "stream",
     "text": [
      "  team  points  assits  rebound\n",
      "0    A      90      12       56\n",
      "1    B      56      34       43\n",
      "2    C      78      23       55\n",
      "3    D      88      44       12\n"
     ]
    }
   ],
   "source": [
    "df=pd.DataFrame({\"team\":[\"A\",\"B\",\"C\",\"D\"],\"points\":[90,56,78,88],\"assits\":[12,34,23,44],\"rebound\":[56,43,55,12]})\n",
    "print(df)\n"
   ]
  },
  {
   "cell_type": "code",
   "execution_count": 19,
   "id": "233e1f17",
   "metadata": {},
   "outputs": [
    {
     "name": "stdout",
     "output_type": "stream",
     "text": [
      "   team variable  value\n",
      "0     A   points     90\n",
      "1     B   points     56\n",
      "2     C   points     78\n",
      "3     D   points     88\n",
      "4     A   assits     12\n",
      "5     B   assits     34\n",
      "6     C   assits     23\n",
      "7     D   assits     44\n",
      "8     A  rebound     56\n",
      "9     B  rebound     43\n",
      "10    C  rebound     55\n",
      "11    D  rebound     12\n"
     ]
    }
   ],
   "source": [
    "df=pd.melt(df,id_vars='team',value_vars=['points','assits','rebound'])\n",
    "print(df)"
   ]
  },
  {
   "cell_type": "code",
   "execution_count": null,
   "id": "bf53a69f",
   "metadata": {},
   "outputs": [],
   "source": []
  }
 ],
 "metadata": {
  "kernelspec": {
   "display_name": "Python 3 (ipykernel)",
   "language": "python",
   "name": "python3"
  },
  "language_info": {
   "codemirror_mode": {
    "name": "ipython",
    "version": 3
   },
   "file_extension": ".py",
   "mimetype": "text/x-python",
   "name": "python",
   "nbconvert_exporter": "python",
   "pygments_lexer": "ipython3",
   "version": "3.11.3"
  }
 },
 "nbformat": 4,
 "nbformat_minor": 5
}
