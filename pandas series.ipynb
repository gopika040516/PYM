{
 "cells": [
  {
   "cell_type": "code",
   "execution_count": 7,
   "id": "a77325c5-8fb4-4608-ad9b-a1863adfe0b1",
   "metadata": {},
   "outputs": [
    {
     "name": "stdout",
     "output_type": "stream",
     "text": [
      "0    s\n",
      "1    a\n",
      "2    i\n",
      "3    s\n",
      "4    r\n",
      "5    i\n",
      "dtype: object\n"
     ]
    }
   ],
   "source": [
    "import pandas as pd\n",
    "import numpy as np\n",
    "arr=np.array(['s','a','i','s','r','i'])\n",
    "a=pd.Series(arr)\n",
    "print(a)\n"
   ]
  },
  {
   "cell_type": "code",
   "execution_count": 9,
   "id": "9ba946a4-4eb0-43b9-8cd7-b09000328f04",
   "metadata": {},
   "outputs": [
    {
     "name": "stdout",
     "output_type": "stream",
     "text": [
      "a    0\n",
      "b    1\n",
      "c    2\n",
      "dtype: int64\n"
     ]
    }
   ],
   "source": [
    "arr={'a':0,'b':1,'c':2}\n",
    "b=pd.Series(arr)\n",
    "print(b)"
   ]
  },
  {
   "cell_type": "code",
   "execution_count": 11,
   "id": "8cd317c6-ed41-43a2-9226-3ad89dc2c78b",
   "metadata": {},
   "outputs": [
    {
     "name": "stdout",
     "output_type": "stream",
     "text": [
      "0    4\n",
      "1    4\n",
      "2    4\n",
      "3    4\n",
      "dtype: int64\n"
     ]
    }
   ],
   "source": [
    "X=pd.Series(4,index=[0,1,2,3])\n",
    "print(X)\n"
   ]
  },
  {
   "cell_type": "code",
   "execution_count": null,
   "id": "6d76ef40-e82f-47ee-a7c6-878fb3bf2da3",
   "metadata": {},
   "outputs": [],
   "source": [
    "arr=np.array(['s','o','i'])\n",
    "arr=pd.Series(arr)\n",
    "print(arr.values)\n",
    "print(arr.shapes)\n",
    "print(arr.ndim)\n",
    "print(arr.values)\n",
    "print(arr.values)\n",
    "\n"
   ]
  }
 ],
 "metadata": {
  "kernelspec": {
   "display_name": "Python 3 (ipykernel)",
   "language": "python",
   "name": "python3"
  },
  "language_info": {
   "codemirror_mode": {
    "name": "ipython",
    "version": 3
   },
   "file_extension": ".py",
   "mimetype": "text/x-python",
   "name": "python",
   "nbconvert_exporter": "python",
   "pygments_lexer": "ipython3",
   "version": "3.12.7"
  }
 },
 "nbformat": 4,
 "nbformat_minor": 5
}
