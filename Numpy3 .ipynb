{
 "cells": [
  {
   "cell_type": "code",
   "execution_count": 2,
   "id": "b37f5ca3",
   "metadata": {},
   "outputs": [
    {
     "name": "stdout",
     "output_type": "stream",
     "text": [
      "(array([1, 4], dtype=int64),)\n"
     ]
    }
   ],
   "source": [
    "import numpy as np\n",
    "arr=np.array([1,6,2,7,6,4])\n",
    "x=np.where(arr==6)\n",
    "print(x)"
   ]
  },
  {
   "cell_type": "code",
   "execution_count": 10,
   "id": "b46ce52f",
   "metadata": {},
   "outputs": [
    {
     "name": "stdout",
     "output_type": "stream",
     "text": [
      "6\n"
     ]
    }
   ],
   "source": [
    "import numpy as np\n",
    "arr=np.array([0,1,2,2,7,8,9])\n",
    "x=np.searchsorted(arr,8,side='Right')\n",
    "print(x)"
   ]
  },
  {
   "cell_type": "code",
   "execution_count": 11,
   "id": "caf5ea68",
   "metadata": {},
   "outputs": [
    {
     "name": "stdout",
     "output_type": "stream",
     "text": [
      "5\n"
     ]
    }
   ],
   "source": [
    "import numpy as np\n",
    "arr=np.array([0,1,2,2,7,8,9])\n",
    "x=np.searchsorted(arr,8,side='left')\n",
    "print(x)"
   ]
  },
  {
   "cell_type": "code",
   "execution_count": 12,
   "id": "7dc32cf9",
   "metadata": {},
   "outputs": [
    {
     "name": "stdout",
     "output_type": "stream",
     "text": [
      "[2 4 6 6 7 9]\n",
      "[[4 7 9]\n",
      " [3 4 9]]\n"
     ]
    }
   ],
   "source": [
    "import numpy as np\n",
    "arr=np.array([9,6,2,7,6,4])\n",
    "print(np.sort(arr))\n",
    "a=np.array([[7,4,9],[9,3,4]])\n",
    "print(np.sort(a))"
   ]
  },
  {
   "cell_type": "code",
   "execution_count": 14,
   "id": "12897f87",
   "metadata": {},
   "outputs": [
    {
     "name": "stdout",
     "output_type": "stream",
     "text": [
      "[False, True, False, True]\n",
      "[78 88]\n"
     ]
    }
   ],
   "source": [
    "import numpy as np\n",
    "arr=np.array([31,78,69,88])\n",
    "x=[False,True,False,True]\n",
    "newarr=arr[x]\n",
    "print(x)\n",
    "print(newarr)"
   ]
  },
  {
   "cell_type": "code",
   "execution_count": 17,
   "id": "6a11c504",
   "metadata": {},
   "outputs": [
    {
     "name": "stdout",
     "output_type": "stream",
     "text": [
      "[ True False  True False]\n",
      "[31 69]\n"
     ]
    }
   ],
   "source": [
    "import numpy as np\n",
    "arr=np.array([31,78,69,88])\n",
    "filter_arr=arr<70\n",
    "newarr=arr[filter_arr]\n",
    "print(filter_arr)\n",
    "print(newarr)"
   ]
  },
  {
   "cell_type": "code",
   "execution_count": null,
   "id": "0c80c793",
   "metadata": {},
   "outputs": [],
   "source": []
  }
 ],
 "metadata": {
  "kernelspec": {
   "display_name": "Python 3 (ipykernel)",
   "language": "python",
   "name": "python3"
  },
  "language_info": {
   "codemirror_mode": {
    "name": "ipython",
    "version": 3
   },
   "file_extension": ".py",
   "mimetype": "text/x-python",
   "name": "python",
   "nbconvert_exporter": "python",
   "pygments_lexer": "ipython3",
   "version": "3.11.3"
  }
 },
 "nbformat": 4,
 "nbformat_minor": 5
}
